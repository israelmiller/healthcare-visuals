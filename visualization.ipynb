{
 "cells": [
  {
   "cell_type": "markdown",
   "metadata": {},
   "source": [
    "## Step 1: Import Packages"
   ]
  },
  {
   "cell_type": "code",
   "execution_count": null,
   "metadata": {},
   "outputs": [],
   "source": [
    "##Import the necessary packages\n",
    "#Data manipulation\n",
    "import pandas as pd\n",
    "import numpy as np\n",
    "#Visualization\n",
    "import seaborn as sns\n",
    "import matplotlib.pyplot as plt\n",
    "import plotly.express as px"
   ]
  },
  {
   "cell_type": "code",
   "execution_count": null,
   "metadata": {},
   "outputs": [],
   "source": [
    "#set theme in seaborn\n",
    "sns.set_theme(style=\"whitegrid\")"
   ]
  },
  {
   "cell_type": "markdown",
   "metadata": {},
   "source": [
    "## Step 2: Load Data"
   ]
  },
  {
   "cell_type": "code",
   "execution_count": null,
   "metadata": {},
   "outputs": [],
   "source": [
    "dataframe = pd.read_csv('data/Georgia_COVID-19_Case_Data.csv')"
   ]
  },
  {
   "cell_type": "code",
   "execution_count": null,
   "metadata": {},
   "outputs": [],
   "source": [
    "dataframe"
   ]
  },
  {
   "cell_type": "markdown",
   "metadata": {},
   "source": [
    "### Describing the variables"
   ]
  },
  {
   "cell_type": "code",
   "execution_count": null,
   "metadata": {},
   "outputs": [],
   "source": [
    "dataframe.info()"
   ]
  },
  {
   "cell_type": "code",
   "execution_count": null,
   "metadata": {},
   "outputs": [],
   "source": [
    "list(dataframe)"
   ]
  },
  {
   "cell_type": "code",
   "execution_count": null,
   "metadata": {},
   "outputs": [],
   "source": [
    "dataframe['COUNTY'].value_counts()"
   ]
  },
  {
   "cell_type": "code",
   "execution_count": null,
   "metadata": {},
   "outputs": [],
   "source": [
    "dataframe_counties = dataframe['COUNTY'].value_counts().sort_index()\n",
    "dataframe_counties.head(20)"
   ]
  },
  {
   "cell_type": "code",
   "execution_count": null,
   "metadata": {},
   "outputs": [],
   "source": [
    "dataframe['DATESTAMP']"
   ]
  },
  {
   "cell_type": "code",
   "execution_count": null,
   "metadata": {},
   "outputs": [],
   "source": [
    "#Creating a copy of the existing column, so we keep the original version\n",
    "dataframe['DATESTAMP_MOD'] = dataframe['DATESTAMP']\n",
    "print(dataframe['DATESTAMP_MOD'].head(10))\n",
    "print(dataframe['DATESTAMP_MOD'].dtypes)"
   ]
  },
  {
   "cell_type": "code",
   "execution_count": null,
   "metadata": {},
   "outputs": [],
   "source": [
    "dataframe['DATESTAMP_MOD'] = pd.to_datetime(dataframe['DATESTAMP_MOD'])\n",
    "dataframe['DATESTAMP_MOD'].dtypes"
   ]
  },
  {
   "cell_type": "code",
   "execution_count": null,
   "metadata": {},
   "outputs": [],
   "source": [
    "dataframe[['DATESTAMP_MOD', 'DATESTAMP']]"
   ]
  },
  {
   "cell_type": "code",
   "execution_count": null,
   "metadata": {},
   "outputs": [],
   "source": [
    "dataframe['DATESTAMP_MOD_DAY'] = dataframe['DATESTAMP_MOD'].dt.date\n",
    "dataframe['DATESTAMP_MOD_DAY']\n"
   ]
  },
  {
   "cell_type": "code",
   "execution_count": null,
   "metadata": {},
   "outputs": [],
   "source": [
    "dataframe['DATESTAMP_MOD_MONTH_YEAR'] = dataframe['DATESTAMP_MOD'].dt.to_period('M')\n",
    "dataframe[['DATESTAMP_MOD_MONTH_YEAR']]"
   ]
  },
  {
   "cell_type": "code",
   "execution_count": null,
   "metadata": {},
   "outputs": [],
   "source": [
    "dataframe['DATESTAMP_MOD_MONTH'] = dataframe['DATESTAMP_MOD'].dt.month_name()\n",
    "dataframe[['DATESTAMP_MOD_MONTH','DATESTAMP_MOD_DAY', 'DATESTAMP_MOD', 'DATESTAMP']]"
   ]
  },
  {
   "cell_type": "code",
   "execution_count": null,
   "metadata": {},
   "outputs": [],
   "source": [
    "dataframe['DATESTAMP_MOD_WEEK'] = dataframe['DATESTAMP_MOD'].dt.week\n",
    "dataframe[['DATESTAMP_MOD_MONTH','DATESTAMP_MOD_DAY', 'DATESTAMP_MOD', 'DATESTAMP', 'DATESTAMP_MOD_WEEK']]"
   ]
  },
  {
   "cell_type": "code",
   "execution_count": null,
   "metadata": {},
   "outputs": [],
   "source": [
    "dataframe['DATESTAMP_MOD_QUARTER'] = dataframe['DATESTAMP_MOD'].dt.to_period('Q')\n",
    "dataframe[['DATESTAMP_MOD_MONTH','DATESTAMP_MOD_DAY', 'DATESTAMP_MOD', 'DATESTAMP', 'DATESTAMP_MOD_WEEK', 'DATESTAMP_MOD_QUARTER']]"
   ]
  },
  {
   "cell_type": "code",
   "execution_count": null,
   "metadata": {},
   "outputs": [],
   "source": [
    "dataframe['DATESTAMP_MOD_DAY_STRING'] = dataframe['DATESTAMP_MOD_DAY'].astype(str)\n",
    "dataframe['DATESTAMP_MOD_WEEK_STRING'] = dataframe['DATESTAMP_MOD_WEEK'].astype(str)\n",
    "dataframe['DATESTAMP_STRING'] = dataframe['DATESTAMP_MOD_MONTH_YEAR'].astype(str)"
   ]
  },
  {
   "cell_type": "code",
   "execution_count": null,
   "metadata": {},
   "outputs": [],
   "source": [
    "dataframe"
   ]
  },
  {
   "cell_type": "markdown",
   "metadata": {},
   "source": [
    "## Step 3: Getting the counties required for our analysis"
   ]
  },
  {
   "cell_type": "markdown",
   "metadata": {},
   "source": [
    "We know the counties we want to analyze are:\n",
    "- Cobb\n",
    "- DeKalb\n",
    "- Fulton\n",
    "- Gwinnett\n",
    "- Hall"
   ]
  },
  {
   "cell_type": "code",
   "execution_count": null,
   "metadata": {},
   "outputs": [],
   "source": [
    "dataframe['COUNTY']"
   ]
  },
  {
   "cell_type": "code",
   "execution_count": null,
   "metadata": {},
   "outputs": [],
   "source": [
    "countlist = ['COBB', 'DEKALB', 'FULTON', 'GWINNETT', 'HALL']\n",
    "countlist"
   ]
  },
  {
   "cell_type": "code",
   "execution_count": null,
   "metadata": {},
   "outputs": [],
   "source": [
    "selectCounties = dataframe[dataframe['COUNTY'].isin(countlist)]\n",
    "len(selectCounties)"
   ]
  },
  {
   "cell_type": "markdown",
   "metadata": {},
   "source": [
    "### Getting just the specific date/time we want"
   ]
  },
  {
   "cell_type": "code",
   "execution_count": null,
   "metadata": {},
   "outputs": [],
   "source": [
    "selectCountyTime = selectCounties\n",
    "selectCountyTime"
   ]
  },
  {
   "cell_type": "code",
   "execution_count": null,
   "metadata": {},
   "outputs": [],
   "source": [
    "selectCountTime_aprilmay2020 = selectCountyTime[(selectCountyTime['DATESTAMP_MOD_MONTH_YEAR'] == '2020-04') | (selectCountyTime['DATESTAMP_MOD_MONTH_YEAR'] == '2020-05')]\n",
    "len(selectCountTime_aprilmay2020)"
   ]
  },
  {
   "cell_type": "code",
   "execution_count": null,
   "metadata": {},
   "outputs": [],
   "source": [
    "selectCountTime_aprilmay2020.sample(50)"
   ]
  },
  {
   "cell_type": "markdown",
   "metadata": {},
   "source": [
    "### Creating the final datafram/specfic column attributes we care about"
   ]
  },
  {
   "cell_type": "code",
   "execution_count": null,
   "metadata": {},
   "outputs": [],
   "source": [
    "finaldf = selectCountTime_aprilmay2020[[\n",
    "    'COUNTY',\n",
    "    'DATESTAMP_MOD',\n",
    "    'DATESTAMP_MOD_DAY',\n",
    "    'DATESTAMP_MOD_DAY_STRING',\n",
    "    'DATESTAMP_STRING',\n",
    "    'DATESTAMP_MOD_MONTH_YEAR',\n",
    "    'C_New', #New Cases\n",
    "    'C_Cum', #Total Cases\n",
    "    'H_New', #New Hospitalizations\n",
    "    'H_Cum', #Total Hospitalizations\n",
    "    'D_New', #New Deaths\n",
    "    'D_Cum' #Total Deaths\n",
    "    ]]"
   ]
  },
  {
   "cell_type": "code",
   "execution_count": null,
   "metadata": {},
   "outputs": [],
   "source": [
    "finaldf"
   ]
  },
  {
   "cell_type": "markdown",
   "metadata": {},
   "source": [
    "## Looking at total covid cases by month"
   ]
  },
  {
   "cell_type": "code",
   "execution_count": null,
   "metadata": {},
   "outputs": [],
   "source": [
    "finaldf_dropdups = finaldf.drop_duplicates(subset=['COUNTY', 'DATESTAMP_STRING'], keep='last')\n",
    "finaldf_dropdups"
   ]
  },
  {
   "cell_type": "code",
   "execution_count": null,
   "metadata": {},
   "outputs": [],
   "source": [
    "pd.pivot_table(finaldf_dropdups, values='C_Cum', index=['COUNTY'],\n",
    "                    columns=['DATESTAMP_MOD_MONTH_YEAR'], aggfunc=np.sum)"
   ]
  },
  {
   "cell_type": "code",
   "execution_count": null,
   "metadata": {},
   "outputs": [],
   "source": [
    "vis1 = sns.barplot(x='DATESTAMP_MOD_MONTH_YEAR', y = 'C_Cum', data=finaldf_dropdups)"
   ]
  },
  {
   "cell_type": "code",
   "execution_count": null,
   "metadata": {},
   "outputs": [],
   "source": [
    "vis2 = sns.barplot(x='DATESTAMP_MOD_MONTH_YEAR', y = 'C_Cum', hue='COUNTY', data=finaldf_dropdups)"
   ]
  },
  {
   "cell_type": "code",
   "execution_count": null,
   "metadata": {},
   "outputs": [],
   "source": [
    "plotly1 = px.bar(finaldf_dropdups, x='DATESTAMP_STRING', y = 'C_Cum', color='COUNTY', barmode='group')\n",
    "plotly1.show()"
   ]
  },
  {
   "cell_type": "code",
   "execution_count": null,
   "metadata": {},
   "outputs": [],
   "source": [
    "plotly2 = px.bar(finaldf_dropdups, x='DATESTAMP_STRING', y = 'C_Cum', color='COUNTY', barmode='stack')\n",
    "plotly2.show()"
   ]
  },
  {
   "cell_type": "markdown",
   "metadata": {},
   "source": [
    "### Looking at COVID-19 Cases by day"
   ]
  },
  {
   "cell_type": "code",
   "execution_count": null,
   "metadata": {},
   "outputs": [],
   "source": [
    "daily = finaldf\n",
    "len(daily)"
   ]
  },
  {
   "cell_type": "code",
   "execution_count": null,
   "metadata": {},
   "outputs": [],
   "source": [
    "pd.pivot_table(daily, values='C_Cum', index=['COUNTY'],\n",
    "                    columns=['DATESTAMP_MOD_DAY'], aggfunc=np.sum)"
   ]
  },
  {
   "cell_type": "code",
   "execution_count": null,
   "metadata": {},
   "outputs": [],
   "source": [
    "pd.pivot_table(daily, values='C_Cum', index=['DATESTAMP_MOD_DAY'],\n",
    "                    columns=['COUNTY'], aggfunc=np.sum)"
   ]
  },
  {
   "cell_type": "code",
   "execution_count": null,
   "metadata": {},
   "outputs": [],
   "source": [
    "startDate = pd.to_datetime('2020-04-26').date()\n",
    "endDate = pd.to_datetime('2020-05-09').date()\n",
    "\n",
    "maskFilter = (daily['DATESTAMP_MOD_DAY'] >= startDate) & (daily['DATESTAMP_MOD_DAY'] <= endDate)\n",
    "dailySpecific = daily.loc[maskFilter]\n",
    "dailySpecific"
   ]
  },
  {
   "cell_type": "code",
   "execution_count": null,
   "metadata": {},
   "outputs": [],
   "source": [
    "dailySpecific[dailySpecific['COUNTY'] == 'FULTON']"
   ]
  },
  {
   "cell_type": "code",
   "execution_count": null,
   "metadata": {},
   "outputs": [],
   "source": [
    "vis3 = sns.lineplot(data=dailySpecific, x='DATESTAMP_MOD_DAY', y='C_Cum')"
   ]
  },
  {
   "cell_type": "code",
   "execution_count": null,
   "metadata": {},
   "outputs": [],
   "source": [
    "vis4 = sns.lineplot(data=dailySpecific, x='DATESTAMP_MOD_DAY', y='C_Cum', hue='COUNTY')"
   ]
  },
  {
   "cell_type": "code",
   "execution_count": null,
   "metadata": {},
   "outputs": [],
   "source": [
    "plotly3 = px.bar(dailySpecific, x='DATESTAMP_MOD_DAY', y = 'C_Cum', color='COUNTY')\n",
    "plotly3.show()"
   ]
  },
  {
   "cell_type": "code",
   "execution_count": null,
   "metadata": {},
   "outputs": [],
   "source": [
    "plotly4 = px.bar(dailySpecific, \n",
    "                 x='DATESTAMP_MOD_DAY', \n",
    "                 y = 'H_New', \n",
    "                 color='COUNTY',\n",
    "                 barmode= 'group')\n",
    "plotly4.show()"
   ]
  },
  {
   "cell_type": "code",
   "execution_count": null,
   "metadata": {},
   "outputs": [],
   "source": [
    "plotly5 = px.bar(dailySpecific, \n",
    "                 x='DATESTAMP_MOD_DAY', \n",
    "                 y = 'H_Cum', \n",
    "                 color='COUNTY',\n",
    "                 barmode= 'group')\n",
    "plotly5.show()"
   ]
  },
  {
   "cell_type": "code",
   "execution_count": null,
   "metadata": {},
   "outputs": [],
   "source": [
    "plotly6 = px.bar(dailySpecific, \n",
    "                 x='DATESTAMP_MOD_DAY', \n",
    "                 y = 'D_New', \n",
    "                 color='COUNTY',\n",
    "                 barmode= 'group')\n",
    "plotly6.show()"
   ]
  },
  {
   "cell_type": "code",
   "execution_count": null,
   "metadata": {},
   "outputs": [],
   "source": [
    "plotly7 = px.bar(dailySpecific, \n",
    "                 x='DATESTAMP_MOD_DAY', \n",
    "                 y = 'D_Cum', \n",
    "                 color='COUNTY',\n",
    "                 barmode= 'group')\n",
    "plotly7.show()"
   ]
  },
  {
   "cell_type": "code",
   "execution_count": null,
   "metadata": {},
   "outputs": [],
   "source": [
    "dailySpecific['newHospAndDeathsAndCovid'] = dailySpecific['H_New'].astype(int) + dailySpecific['D_New'].astype(int) + dailySpecific['C_New'].astype(int)\n",
    "dailySpecific['newHospAndDeathsAndCovid']"
   ]
  },
  {
   "cell_type": "code",
   "execution_count": null,
   "metadata": {},
   "outputs": [],
   "source": [
    "dailySpecific"
   ]
  },
  {
   "cell_type": "code",
   "execution_count": null,
   "metadata": {},
   "outputs": [],
   "source": [
    "plotly8 = px.bar(dailySpecific, \n",
    "                 x='DATESTAMP_MOD_DAY', \n",
    "                 y = 'newHospAndDeathsAndCovid', \n",
    "                 color='COUNTY',\n",
    "                 barmode= 'group',\n",
    "                 title='Georgia 2020 Covid Data: New Hospitalizations, Deaths, and COVID-19 Cases',\n",
    "                 labels={'DATESTAMP_MOD_DAY':'Time (Month, Day, Year)', \n",
    "                         'newHospAndDeathsAndCovid':'New Hospitalizations, Deaths, and COVID-19 Cases', \n",
    "                         'COUNTY':'County'},\n",
    "                 )\n",
    "plotly8.update_layout(\n",
    "    xaxis=dict(\n",
    "        tickmode = 'linear',\n",
    "        type = 'category',\n",
    "    )\n",
    ")\n",
    "plotly8.show()"
   ]
  }
 ],
 "metadata": {
  "kernelspec": {
   "display_name": "Python 3.9.12 ('base')",
   "language": "python",
   "name": "python3"
  },
  "language_info": {
   "codemirror_mode": {
    "name": "ipython",
    "version": 3
   },
   "file_extension": ".py",
   "mimetype": "text/x-python",
   "name": "python",
   "nbconvert_exporter": "python",
   "pygments_lexer": "ipython3",
   "version": "3.9.12"
  },
  "orig_nbformat": 4,
  "vscode": {
   "interpreter": {
    "hash": "2426c27b3d4358b4854808f4ee0ce0f5f1fa773e1ec013bafb32e978441c4793"
   }
  }
 },
 "nbformat": 4,
 "nbformat_minor": 2
}
