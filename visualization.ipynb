{
 "cells": [
  {
   "cell_type": "markdown",
   "metadata": {},
   "source": [
    "## Step 1: Import Packages"
   ]
  },
  {
   "cell_type": "code",
   "execution_count": null,
   "metadata": {},
   "outputs": [],
   "source": [
    "##Import the necessary packages\n",
    "#Data manipulation\n",
    "import pandas as pd\n",
    "import numpy as np\n",
    "#Visualization\n",
    "import seaborn as sns\n",
    "import matplotlib.pyplot as plt\n",
    "import plotly.express as px"
   ]
  },
  {
   "cell_type": "code",
   "execution_count": null,
   "metadata": {},
   "outputs": [],
   "source": [
    "#set theme in seaborn\n",
    "sns.set_theme(style=\"whitegrid\")"
   ]
  },
  {
   "cell_type": "markdown",
   "metadata": {},
   "source": [
    "## Step 2: Load Data"
   ]
  },
  {
   "cell_type": "code",
   "execution_count": null,
   "metadata": {},
   "outputs": [],
   "source": [
    "dataframe = pd.read_csv('data/Georgia_COVID-19_Case_Data.csv')"
   ]
  },
  {
   "cell_type": "code",
   "execution_count": null,
   "metadata": {},
   "outputs": [],
   "source": [
    "dataframe"
   ]
  },
  {
   "cell_type": "markdown",
   "metadata": {},
   "source": [
    "### Describing the variables"
   ]
  },
  {
   "cell_type": "code",
   "execution_count": null,
   "metadata": {},
   "outputs": [],
   "source": [
    "dataframe.info()"
   ]
  },
  {
   "cell_type": "code",
   "execution_count": null,
   "metadata": {},
   "outputs": [],
   "source": [
    "list(dataframe)"
   ]
  },
  {
   "cell_type": "code",
   "execution_count": null,
   "metadata": {},
   "outputs": [],
   "source": [
    "dataframe['COUNTY'].value_counts()"
   ]
  },
  {
   "cell_type": "code",
   "execution_count": null,
   "metadata": {},
   "outputs": [],
   "source": [
    "dataframe_counties = dataframe['COUNTY'].value_counts().sort_index()\n",
    "dataframe_counties.head(20)"
   ]
  },
  {
   "cell_type": "code",
   "execution_count": null,
   "metadata": {},
   "outputs": [],
   "source": [
    "dataframe['DATESTAMP']"
   ]
  },
  {
   "cell_type": "code",
   "execution_count": null,
   "metadata": {},
   "outputs": [],
   "source": [
    "#Creating a copy of the existing column, so we keep the original version\n",
    "dataframe['DATESTAMP_MOD'] = dataframe['DATESTAMP']\n",
    "print(dataframe['DATESTAMP_MOD'].head(10))\n",
    "print(dataframe['DATESTAMP_MOD'].dtypes)"
   ]
  },
  {
   "cell_type": "code",
   "execution_count": null,
   "metadata": {},
   "outputs": [],
   "source": [
    "dataframe['DATESTAMP_MOD'] = pd.to_datetime(dataframe['DATESTAMP_MOD'])\n",
    "dataframe['DATESTAMP_MOD'].dtypes"
   ]
  },
  {
   "cell_type": "code",
   "execution_count": null,
   "metadata": {},
   "outputs": [],
   "source": [
    "dataframe[['DATESTAMP_MOD', 'DATESTAMP']]"
   ]
  },
  {
   "cell_type": "code",
   "execution_count": null,
   "metadata": {},
   "outputs": [],
   "source": [
    "dataframe['DATESTAMP_MOD_DAY'] = dataframe['DATESTAMP_MOD'].dt.date\n",
    "dataframe['DATESTAMP_MOD_DAY']\n"
   ]
  },
  {
   "cell_type": "code",
   "execution_count": null,
   "metadata": {},
   "outputs": [],
   "source": [
    "dataframe['DATESTAMP_MOD_MONTH_YEAR'] = dataframe['DATESTAMP_MOD'].dt.to_period('M')\n",
    "dataframe[['DATESTAMP_MOD_MONTH_YEAR']]"
   ]
  },
  {
   "cell_type": "code",
   "execution_count": null,
   "metadata": {},
   "outputs": [],
   "source": [
    "dataframe['DATESTAMP_MOD_MONTH'] = dataframe['DATESTAMP_MOD'].dt.month_name()\n",
    "dataframe[['DATESTAMP_MOD_MONTH','DATESTAMP_MOD_DAY', 'DATESTAMP_MOD', 'DATESTAMP']]"
   ]
  },
  {
   "cell_type": "code",
   "execution_count": null,
   "metadata": {},
   "outputs": [],
   "source": [
    "dataframe['DATESTAMP_MOD_WEEK'] = dataframe['DATESTAMP_MOD'].dt.week\n",
    "dataframe[['DATESTAMP_MOD_MONTH','DATESTAMP_MOD_DAY', 'DATESTAMP_MOD', 'DATESTAMP', 'DATESTAMP_MOD_WEEK']]"
   ]
  },
  {
   "cell_type": "code",
   "execution_count": null,
   "metadata": {},
   "outputs": [],
   "source": [
    "dataframe['DATESTAMP_MOD_QUARTER'] = dataframe['DATESTAMP_MOD'].dt.to_period('Q')\n",
    "dataframe[['DATESTAMP_MOD_MONTH','DATESTAMP_MOD_DAY', 'DATESTAMP_MOD', 'DATESTAMP', 'DATESTAMP_MOD_WEEK', 'DATESTAMP_MOD_QUARTER']]"
   ]
  },
  {
   "cell_type": "code",
   "execution_count": null,
   "metadata": {},
   "outputs": [],
   "source": [
    "dataframe['DATESTAMP_MOD_DAY_STRING'] = dataframe['DATESTAMP_MOD_DAY'].astype(str)\n",
    "dataframe['DATESTAMP_MOD_WEEK_STRING'] = dataframe['DATESTAMP_MOD_WEEK'].astype(str)\n",
    "dataframe['DATESTAMP_STRING'] = dataframe['DATESTAMP_MOD_MONTH_YEAR'].astype(str)"
   ]
  },
  {
   "cell_type": "code",
   "execution_count": null,
   "metadata": {},
   "outputs": [],
   "source": [
    "dataframe"
   ]
  },
  {
   "cell_type": "markdown",
   "metadata": {},
   "source": [
    "## Step 3: Getting the counties required for our analysis"
   ]
  },
  {
   "cell_type": "markdown",
   "metadata": {},
   "source": [
    "We know the counties we want to analyze are:\n",
    "- Cobb\n",
    "- DeKalb\n",
    "- Fulton\n",
    "- Gwinnett\n",
    "- Hall"
   ]
  },
  {
   "cell_type": "code",
   "execution_count": null,
   "metadata": {},
   "outputs": [],
   "source": [
    "dataframe['COUNTY']"
   ]
  },
  {
   "cell_type": "code",
   "execution_count": null,
   "metadata": {},
   "outputs": [],
   "source": [
    "countlist = ['COBB', 'DEKALB', 'FULTON', 'GWINNETT', 'HALL']\n",
    "countlist"
   ]
  },
  {
   "cell_type": "code",
   "execution_count": null,
   "metadata": {},
   "outputs": [],
   "source": [
    "selectCounties = dataframe[dataframe['COUNTY'].isin(countlist)]\n",
    "len(selectCounties)"
   ]
  },
  {
   "cell_type": "markdown",
   "metadata": {},
   "source": [
    "### Getting just the specific date/time we want"
   ]
  },
  {
   "cell_type": "code",
   "execution_count": null,
   "metadata": {},
   "outputs": [],
   "source": [
    "selectCountyTime = selectCounties\n",
    "selectCountyTime"
   ]
  },
  {
   "cell_type": "code",
   "execution_count": null,
   "metadata": {},
   "outputs": [],
   "source": [
    "selectCountTime_aprilmay2020 = selectCountyTime[(selectCountyTime['DATESTAMP_MOD_MONTH_YEAR'] == '2020-04') | (selectCountyTime['DATESTAMP_MOD_MONTH_YEAR'] == '2020-05')]\n",
    "len(selectCountTime_aprilmay2020)"
   ]
  },
  {
   "cell_type": "code",
   "execution_count": null,
   "metadata": {},
   "outputs": [],
   "source": [
    "selectCountTime_aprilmay2020.sample(50)"
   ]
  },
  {
   "cell_type": "markdown",
   "metadata": {},
   "source": [
    "### Creating the final datafram/specfic column attributes we care about"
   ]
  },
  {
   "cell_type": "code",
   "execution_count": null,
   "metadata": {},
   "outputs": [],
   "source": [
    "finaldf = selectCountTime_aprilmay2020[[\n",
    "    'COUNTY',\n",
    "    'DATESTAMP_MOD',\n",
    "    'DATESTAMP_MOD_DAY',\n",
    "    'DATESTAMP_MOD_DAY_STRING',\n",
    "    'DATESTAMP_STRING',\n",
    "    'DATESTAMP_MOD_MONTH_YEAR',\n",
    "    'C_New', #New Cases\n",
    "    'C_Cum', #Total Cases\n",
    "    'H_New', #New Hospitalizations\n",
    "    'H_Cum', #Total Hospitalizations\n",
    "    'D_New', #New Deaths\n",
    "    'D_Cum' #Total Deaths\n",
    "    ]]"
   ]
  },
  {
   "cell_type": "code",
   "execution_count": null,
   "metadata": {},
   "outputs": [],
   "source": [
    "finaldf"
   ]
  },
  {
   "cell_type": "markdown",
   "metadata": {},
   "source": [
    "## Looking at total covid cases by month"
   ]
  },
  {
   "cell_type": "code",
   "execution_count": null,
   "metadata": {},
   "outputs": [],
   "source": [
    "finaldf_dropdups = finaldf.drop_duplicates(subset=['COUNTY', 'DATESTAMP_STRING'], keep='last')\n",
    "finaldf_dropdups"
   ]
  },
  {
   "cell_type": "code",
   "execution_count": null,
   "metadata": {},
   "outputs": [],
   "source": [
    "pd.pivot_table(finaldf_dropdups, values='C_Cum', index=['COUNTY'],\n",
    "                    columns=['DATESTAMP_MOD_MONTH_YEAR'], aggfunc=np.sum)"
   ]
  },
  {
   "cell_type": "code",
   "execution_count": null,
   "metadata": {},
   "outputs": [],
   "source": [
    "vis1 = sns.barplot(x='DATESTAMP_MOD_MONTH_YEAR', y = 'C_Cum', data=finaldf_dropdups)"
   ]
  },
  {
   "cell_type": "code",
   "execution_count": null,
   "metadata": {},
   "outputs": [],
   "source": [
    "vis2 = sns.barplot(x='DATESTAMP_MOD_MONTH_YEAR', y = 'C_Cum', hue='COUNTY', data=finaldf_dropdups)"
   ]
  },
  {
   "cell_type": "code",
   "execution_count": null,
   "metadata": {},
   "outputs": [],
   "source": [
    "plotly1 = px.bar(finaldf_dropdups, x='DATESTAMP_STRING', y = 'C_Cum', color='COUNTY', barmode='group')\n",
    "plotly1.show()"
   ]
  },
  {
   "cell_type": "code",
   "execution_count": null,
   "metadata": {},
   "outputs": [],
   "source": [
    "plotly2 = px.bar(finaldf_dropdups, x='DATESTAMP_STRING', y = 'C_Cum', color='COUNTY', barmode='stack')\n",
    "plotly2.show()"
   ]
  },
  {
   "cell_type": "markdown",
   "metadata": {},
   "source": [
    "### Looking at COVID-19 Cases by day"
   ]
  },
  {
   "cell_type": "code",
   "execution_count": null,
   "metadata": {},
   "outputs": [],
   "source": [
    "daily = finaldf\n",
    "len(daily)"
   ]
  },
  {
   "cell_type": "code",
   "execution_count": null,
   "metadata": {},
   "outputs": [],
   "source": [
    "pd.pivot_table(daily, values='C_Cum', index=['COUNTY'],\n",
    "                    columns=['DATESTAMP_MOD_DAY'], aggfunc=np.sum)"
   ]
  },
  {
   "cell_type": "code",
   "execution_count": null,
   "metadata": {},
   "outputs": [],
   "source": [
    "pd.pivot_table(daily, values='C_Cum', index=['DATESTAMP_MOD_DAY'],\n",
    "                    columns=['COUNTY'], aggfunc=np.sum)"
   ]
  },
  {
   "cell_type": "code",
   "execution_count": null,
   "metadata": {},
   "outputs": [],
   "source": [
    "startDate = pd.to_datetime('2020-04-26').date()\n",
    "endDate = pd.to_datetime('2020-05-09').date()\n",
    "\n",
    "maskFilter = (daily['DATESTAMP_MOD_DAY'] >= startDate) & (daily['DATESTAMP_MOD_DAY'] <= endDate)\n",
    "dailySpecific = daily.loc[maskFilter]\n",
    "dailySpecific"
   ]
  },
  {
   "cell_type": "code",
   "execution_count": null,
   "metadata": {},
   "outputs": [],
   "source": [
    "dailySpecific[dailySpecific['COUNTY'] == 'FULTON']"
   ]
  },
  {
   "cell_type": "code",
   "execution_count": null,
   "metadata": {},
   "outputs": [],
   "source": [
    "vis3 = sns.lineplot(data=dailySpecific, x='DATESTAMP_MOD_DAY', y='C_Cum')"
   ]
  },
  {
   "cell_type": "code",
   "execution_count": null,
   "metadata": {},
   "outputs": [],
   "source": [
    "vis4 = sns.lineplot(data=dailySpecific, x='DATESTAMP_MOD_DAY', y='C_Cum', hue='COUNTY')"
   ]
  },
  {
   "cell_type": "code",
   "execution_count": null,
   "metadata": {},
   "outputs": [],
   "source": [
    "plotly3 = px.bar(dailySpecific, x='DATESTAMP_MOD_DAY', y = 'C_Cum', color='COUNTY')\n",
    "plotly3.show()"
   ]
  },
  {
   "cell_type": "code",
   "execution_count": null,
   "metadata": {},
   "outputs": [],
   "source": [
    "plotly4 = px.bar(dailySpecific, \n",
    "                 x='DATESTAMP_MOD_DAY', \n",
    "                 y = 'H_New', \n",
    "                 color='COUNTY',\n",
    "                 barmode= 'group')\n",
    "plotly4.show()"
   ]
  },
  {
   "cell_type": "code",
   "execution_count": null,
   "metadata": {},
   "outputs": [],
   "source": [
    "plotly5 = px.bar(dailySpecific, \n",
    "                 x='DATESTAMP_MOD_DAY', \n",
    "                 y = 'H_Cum', \n",
    "                 color='COUNTY',\n",
    "                 barmode= 'group')\n",
    "plotly5.show()"
   ]
  },
  {
   "cell_type": "code",
   "execution_count": null,
   "metadata": {},
   "outputs": [],
   "source": [
    "plotly6 = px.bar(dailySpecific, \n",
    "                 x='DATESTAMP_MOD_DAY', \n",
    "                 y = 'D_New', \n",
    "                 color='COUNTY',\n",
    "                 barmode= 'group')\n",
    "plotly6.show()"
   ]
  },
  {
   "cell_type": "code",
   "execution_count": null,
   "metadata": {},
   "outputs": [],
   "source": [
    "plotly7 = px.bar(dailySpecific, \n",
    "                 x='DATESTAMP_MOD_DAY', \n",
    "                 y = 'D_Cum', \n",
    "                 color='COUNTY',\n",
    "                 barmode= 'group')\n",
    "plotly7.show()"
   ]
  },
  {
   "cell_type": "code",
   "execution_count": 265,
   "metadata": {},
   "outputs": [
    {
     "name": "stderr",
     "output_type": "stream",
     "text": [
      "/var/folders/w5/8rqm_7kx2gq0x53vtdrt58_m0000gn/T/ipykernel_14920/2297802860.py:1: SettingWithCopyWarning:\n",
      "\n",
      "\n",
      "A value is trying to be set on a copy of a slice from a DataFrame.\n",
      "Try using .loc[row_indexer,col_indexer] = value instead\n",
      "\n",
      "See the caveats in the documentation: https://pandas.pydata.org/pandas-docs/stable/user_guide/indexing.html#returning-a-view-versus-a-copy\n",
      "\n"
     ]
    },
    {
     "data": {
      "text/plain": [
       "7489      52\n",
       "7490      63\n",
       "7491      90\n",
       "7492     103\n",
       "7493      83\n",
       "        ... \n",
       "79995     56\n",
       "79996     36\n",
       "79997     16\n",
       "79998     40\n",
       "79999     24\n",
       "Name: newHospAndDeathsAndCovid, Length: 70, dtype: int64"
      ]
     },
     "execution_count": 265,
     "metadata": {},
     "output_type": "execute_result"
    }
   ],
   "source": [
    "dailySpecific['newHospAndDeathsAndCovid'] = dailySpecific['H_New'].astype(int) + dailySpecific['D_New'].astype(int) + dailySpecific['C_New'].astype(int)\n",
    "dailySpecific['newHospAndDeathsAndCovid']"
   ]
  },
  {
   "cell_type": "code",
   "execution_count": 266,
   "metadata": {},
   "outputs": [
    {
     "data": {
      "text/html": [
       "<div>\n",
       "<style scoped>\n",
       "    .dataframe tbody tr th:only-of-type {\n",
       "        vertical-align: middle;\n",
       "    }\n",
       "\n",
       "    .dataframe tbody tr th {\n",
       "        vertical-align: top;\n",
       "    }\n",
       "\n",
       "    .dataframe thead th {\n",
       "        text-align: right;\n",
       "    }\n",
       "</style>\n",
       "<table border=\"1\" class=\"dataframe\">\n",
       "  <thead>\n",
       "    <tr style=\"text-align: right;\">\n",
       "      <th></th>\n",
       "      <th>COUNTY</th>\n",
       "      <th>DATESTAMP_MOD</th>\n",
       "      <th>DATESTAMP_MOD_DAY</th>\n",
       "      <th>DATESTAMP_MOD_DAY_STRING</th>\n",
       "      <th>DATESTAMP_STRING</th>\n",
       "      <th>DATESTAMP_MOD_MONTH_YEAR</th>\n",
       "      <th>C_New</th>\n",
       "      <th>C_Cum</th>\n",
       "      <th>H_New</th>\n",
       "      <th>H_Cum</th>\n",
       "      <th>D_New</th>\n",
       "      <th>D_Cum</th>\n",
       "      <th>newHospAndDeaths</th>\n",
       "      <th>newHospAndDeathsAndCovid</th>\n",
       "    </tr>\n",
       "  </thead>\n",
       "  <tbody>\n",
       "    <tr>\n",
       "      <th>7489</th>\n",
       "      <td>FULTON</td>\n",
       "      <td>2020-04-26 03:59:59+00:00</td>\n",
       "      <td>2020-04-26</td>\n",
       "      <td>2020-04-26</td>\n",
       "      <td>2020-04</td>\n",
       "      <td>2020-04</td>\n",
       "      <td>36</td>\n",
       "      <td>2910</td>\n",
       "      <td>10</td>\n",
       "      <td>752</td>\n",
       "      <td>6</td>\n",
       "      <td>244</td>\n",
       "      <td>16</td>\n",
       "      <td>52</td>\n",
       "    </tr>\n",
       "    <tr>\n",
       "      <th>7490</th>\n",
       "      <td>FULTON</td>\n",
       "      <td>2020-04-27 03:59:59+00:00</td>\n",
       "      <td>2020-04-27</td>\n",
       "      <td>2020-04-27</td>\n",
       "      <td>2020-04</td>\n",
       "      <td>2020-04</td>\n",
       "      <td>51</td>\n",
       "      <td>2961</td>\n",
       "      <td>8</td>\n",
       "      <td>760</td>\n",
       "      <td>4</td>\n",
       "      <td>248</td>\n",
       "      <td>12</td>\n",
       "      <td>63</td>\n",
       "    </tr>\n",
       "    <tr>\n",
       "      <th>7491</th>\n",
       "      <td>FULTON</td>\n",
       "      <td>2020-04-28 03:59:59+00:00</td>\n",
       "      <td>2020-04-28</td>\n",
       "      <td>2020-04-28</td>\n",
       "      <td>2020-04</td>\n",
       "      <td>2020-04</td>\n",
       "      <td>77</td>\n",
       "      <td>3038</td>\n",
       "      <td>10</td>\n",
       "      <td>770</td>\n",
       "      <td>3</td>\n",
       "      <td>251</td>\n",
       "      <td>13</td>\n",
       "      <td>90</td>\n",
       "    </tr>\n",
       "    <tr>\n",
       "      <th>7492</th>\n",
       "      <td>FULTON</td>\n",
       "      <td>2020-04-29 03:59:59+00:00</td>\n",
       "      <td>2020-04-29</td>\n",
       "      <td>2020-04-29</td>\n",
       "      <td>2020-04</td>\n",
       "      <td>2020-04</td>\n",
       "      <td>78</td>\n",
       "      <td>3116</td>\n",
       "      <td>17</td>\n",
       "      <td>787</td>\n",
       "      <td>8</td>\n",
       "      <td>259</td>\n",
       "      <td>25</td>\n",
       "      <td>103</td>\n",
       "    </tr>\n",
       "    <tr>\n",
       "      <th>7493</th>\n",
       "      <td>FULTON</td>\n",
       "      <td>2020-04-30 03:59:59+00:00</td>\n",
       "      <td>2020-04-30</td>\n",
       "      <td>2020-04-30</td>\n",
       "      <td>2020-04</td>\n",
       "      <td>2020-04</td>\n",
       "      <td>73</td>\n",
       "      <td>3189</td>\n",
       "      <td>5</td>\n",
       "      <td>792</td>\n",
       "      <td>5</td>\n",
       "      <td>264</td>\n",
       "      <td>10</td>\n",
       "      <td>83</td>\n",
       "    </tr>\n",
       "    <tr>\n",
       "      <th>...</th>\n",
       "      <td>...</td>\n",
       "      <td>...</td>\n",
       "      <td>...</td>\n",
       "      <td>...</td>\n",
       "      <td>...</td>\n",
       "      <td>...</td>\n",
       "      <td>...</td>\n",
       "      <td>...</td>\n",
       "      <td>...</td>\n",
       "      <td>...</td>\n",
       "      <td>...</td>\n",
       "      <td>...</td>\n",
       "      <td>...</td>\n",
       "      <td>...</td>\n",
       "    </tr>\n",
       "    <tr>\n",
       "      <th>79995</th>\n",
       "      <td>HALL</td>\n",
       "      <td>2020-05-01 03:59:59+00:00</td>\n",
       "      <td>2020-05-01</td>\n",
       "      <td>2020-05-01</td>\n",
       "      <td>2020-05</td>\n",
       "      <td>2020-05</td>\n",
       "      <td>47</td>\n",
       "      <td>2069</td>\n",
       "      <td>8</td>\n",
       "      <td>305</td>\n",
       "      <td>1</td>\n",
       "      <td>63</td>\n",
       "      <td>9</td>\n",
       "      <td>56</td>\n",
       "    </tr>\n",
       "    <tr>\n",
       "      <th>79996</th>\n",
       "      <td>HALL</td>\n",
       "      <td>2020-05-02 03:59:59+00:00</td>\n",
       "      <td>2020-05-02</td>\n",
       "      <td>2020-05-02</td>\n",
       "      <td>2020-05</td>\n",
       "      <td>2020-05</td>\n",
       "      <td>26</td>\n",
       "      <td>2095</td>\n",
       "      <td>7</td>\n",
       "      <td>312</td>\n",
       "      <td>3</td>\n",
       "      <td>66</td>\n",
       "      <td>10</td>\n",
       "      <td>36</td>\n",
       "    </tr>\n",
       "    <tr>\n",
       "      <th>79997</th>\n",
       "      <td>HALL</td>\n",
       "      <td>2020-05-03 03:59:59+00:00</td>\n",
       "      <td>2020-05-03</td>\n",
       "      <td>2020-05-03</td>\n",
       "      <td>2020-05</td>\n",
       "      <td>2020-05</td>\n",
       "      <td>12</td>\n",
       "      <td>2107</td>\n",
       "      <td>4</td>\n",
       "      <td>316</td>\n",
       "      <td>0</td>\n",
       "      <td>66</td>\n",
       "      <td>4</td>\n",
       "      <td>16</td>\n",
       "    </tr>\n",
       "    <tr>\n",
       "      <th>79998</th>\n",
       "      <td>HALL</td>\n",
       "      <td>2020-05-04 03:59:59+00:00</td>\n",
       "      <td>2020-05-04</td>\n",
       "      <td>2020-05-04</td>\n",
       "      <td>2020-05</td>\n",
       "      <td>2020-05</td>\n",
       "      <td>35</td>\n",
       "      <td>2142</td>\n",
       "      <td>4</td>\n",
       "      <td>320</td>\n",
       "      <td>1</td>\n",
       "      <td>67</td>\n",
       "      <td>5</td>\n",
       "      <td>40</td>\n",
       "    </tr>\n",
       "    <tr>\n",
       "      <th>79999</th>\n",
       "      <td>HALL</td>\n",
       "      <td>2020-05-05 03:59:59+00:00</td>\n",
       "      <td>2020-05-05</td>\n",
       "      <td>2020-05-05</td>\n",
       "      <td>2020-05</td>\n",
       "      <td>2020-05</td>\n",
       "      <td>21</td>\n",
       "      <td>2163</td>\n",
       "      <td>2</td>\n",
       "      <td>322</td>\n",
       "      <td>1</td>\n",
       "      <td>68</td>\n",
       "      <td>3</td>\n",
       "      <td>24</td>\n",
       "    </tr>\n",
       "  </tbody>\n",
       "</table>\n",
       "<p>70 rows × 14 columns</p>\n",
       "</div>"
      ],
      "text/plain": [
       "       COUNTY             DATESTAMP_MOD DATESTAMP_MOD_DAY  \\\n",
       "7489   FULTON 2020-04-26 03:59:59+00:00        2020-04-26   \n",
       "7490   FULTON 2020-04-27 03:59:59+00:00        2020-04-27   \n",
       "7491   FULTON 2020-04-28 03:59:59+00:00        2020-04-28   \n",
       "7492   FULTON 2020-04-29 03:59:59+00:00        2020-04-29   \n",
       "7493   FULTON 2020-04-30 03:59:59+00:00        2020-04-30   \n",
       "...       ...                       ...               ...   \n",
       "79995    HALL 2020-05-01 03:59:59+00:00        2020-05-01   \n",
       "79996    HALL 2020-05-02 03:59:59+00:00        2020-05-02   \n",
       "79997    HALL 2020-05-03 03:59:59+00:00        2020-05-03   \n",
       "79998    HALL 2020-05-04 03:59:59+00:00        2020-05-04   \n",
       "79999    HALL 2020-05-05 03:59:59+00:00        2020-05-05   \n",
       "\n",
       "      DATESTAMP_MOD_DAY_STRING DATESTAMP_STRING DATESTAMP_MOD_MONTH_YEAR  \\\n",
       "7489                2020-04-26          2020-04                  2020-04   \n",
       "7490                2020-04-27          2020-04                  2020-04   \n",
       "7491                2020-04-28          2020-04                  2020-04   \n",
       "7492                2020-04-29          2020-04                  2020-04   \n",
       "7493                2020-04-30          2020-04                  2020-04   \n",
       "...                        ...              ...                      ...   \n",
       "79995               2020-05-01          2020-05                  2020-05   \n",
       "79996               2020-05-02          2020-05                  2020-05   \n",
       "79997               2020-05-03          2020-05                  2020-05   \n",
       "79998               2020-05-04          2020-05                  2020-05   \n",
       "79999               2020-05-05          2020-05                  2020-05   \n",
       "\n",
       "       C_New  C_Cum  H_New  H_Cum  D_New  D_Cum  newHospAndDeaths  \\\n",
       "7489      36   2910     10    752      6    244                16   \n",
       "7490      51   2961      8    760      4    248                12   \n",
       "7491      77   3038     10    770      3    251                13   \n",
       "7492      78   3116     17    787      8    259                25   \n",
       "7493      73   3189      5    792      5    264                10   \n",
       "...      ...    ...    ...    ...    ...    ...               ...   \n",
       "79995     47   2069      8    305      1     63                 9   \n",
       "79996     26   2095      7    312      3     66                10   \n",
       "79997     12   2107      4    316      0     66                 4   \n",
       "79998     35   2142      4    320      1     67                 5   \n",
       "79999     21   2163      2    322      1     68                 3   \n",
       "\n",
       "       newHospAndDeathsAndCovid  \n",
       "7489                         52  \n",
       "7490                         63  \n",
       "7491                         90  \n",
       "7492                        103  \n",
       "7493                         83  \n",
       "...                         ...  \n",
       "79995                        56  \n",
       "79996                        36  \n",
       "79997                        16  \n",
       "79998                        40  \n",
       "79999                        24  \n",
       "\n",
       "[70 rows x 14 columns]"
      ]
     },
     "execution_count": 266,
     "metadata": {},
     "output_type": "execute_result"
    }
   ],
   "source": [
    "dailySpecific"
   ]
  },
  {
   "cell_type": "code",
   "execution_count": 276,
   "metadata": {},
   "outputs": [
    {
     "data": {
      "application/vnd.plotly.v1+json": {
       "config": {
        "plotlyServerURL": "https://plot.ly"
       },
       "data": [
        {
         "alignmentgroup": "True",
         "hovertemplate": "County=FULTON<br>Time (Month, Day, Year)=%{x}<br>New Hospitalizations, Deaths, and COVID-19 Cases=%{y}<extra></extra>",
         "legendgroup": "FULTON",
         "marker": {
          "color": "#636efa",
          "pattern": {
           "shape": ""
          }
         },
         "name": "FULTON",
         "offsetgroup": "FULTON",
         "orientation": "v",
         "showlegend": true,
         "textposition": "auto",
         "type": "bar",
         "x": [
          "2020-04-26",
          "2020-04-27",
          "2020-04-28",
          "2020-04-29",
          "2020-04-30",
          "2020-05-01",
          "2020-05-02",
          "2020-05-03",
          "2020-05-04",
          "2020-05-05",
          "2020-05-06",
          "2020-05-07",
          "2020-05-08",
          "2020-05-09"
         ],
         "xaxis": "x",
         "y": [
          52,
          63,
          90,
          103,
          83,
          73,
          36,
          47,
          57,
          66,
          70,
          77,
          65,
          25
         ],
         "yaxis": "y"
        },
        {
         "alignmentgroup": "True",
         "hovertemplate": "County=COBB<br>Time (Month, Day, Year)=%{x}<br>New Hospitalizations, Deaths, and COVID-19 Cases=%{y}<extra></extra>",
         "legendgroup": "COBB",
         "marker": {
          "color": "#EF553B",
          "pattern": {
           "shape": ""
          }
         },
         "name": "COBB",
         "offsetgroup": "COBB",
         "orientation": "v",
         "showlegend": true,
         "textposition": "auto",
         "type": "bar",
         "x": [
          "2020-04-26",
          "2020-04-27",
          "2020-04-28",
          "2020-04-29",
          "2020-04-30",
          "2020-05-01",
          "2020-05-02",
          "2020-05-03",
          "2020-05-04",
          "2020-05-05",
          "2020-05-06",
          "2020-05-07",
          "2020-05-08",
          "2020-05-09"
         ],
         "xaxis": "x",
         "y": [
          48,
          107,
          64,
          56,
          87,
          87,
          34,
          23,
          50,
          62,
          35,
          38,
          81,
          32
         ],
         "yaxis": "y"
        },
        {
         "alignmentgroup": "True",
         "hovertemplate": "County=GWINNETT<br>Time (Month, Day, Year)=%{x}<br>New Hospitalizations, Deaths, and COVID-19 Cases=%{y}<extra></extra>",
         "legendgroup": "GWINNETT",
         "marker": {
          "color": "#00cc96",
          "pattern": {
           "shape": ""
          }
         },
         "name": "GWINNETT",
         "offsetgroup": "GWINNETT",
         "orientation": "v",
         "showlegend": true,
         "textposition": "auto",
         "type": "bar",
         "x": [
          "2020-04-26",
          "2020-04-27",
          "2020-04-28",
          "2020-04-29",
          "2020-04-30",
          "2020-05-01",
          "2020-05-02",
          "2020-05-03",
          "2020-05-04",
          "2020-05-05",
          "2020-05-06",
          "2020-05-07",
          "2020-05-08",
          "2020-05-09"
         ],
         "xaxis": "x",
         "y": [
          51,
          101,
          110,
          71,
          81,
          84,
          56,
          34,
          87,
          82,
          78,
          54,
          82,
          42
         ],
         "yaxis": "y"
        },
        {
         "alignmentgroup": "True",
         "hovertemplate": "County=DEKALB<br>Time (Month, Day, Year)=%{x}<br>New Hospitalizations, Deaths, and COVID-19 Cases=%{y}<extra></extra>",
         "legendgroup": "DEKALB",
         "marker": {
          "color": "#ab63fa",
          "pattern": {
           "shape": ""
          }
         },
         "name": "DEKALB",
         "offsetgroup": "DEKALB",
         "orientation": "v",
         "showlegend": true,
         "textposition": "auto",
         "type": "bar",
         "x": [
          "2020-04-26",
          "2020-04-27",
          "2020-04-28",
          "2020-04-29",
          "2020-04-30",
          "2020-05-01",
          "2020-05-02",
          "2020-05-03",
          "2020-05-04",
          "2020-05-05",
          "2020-05-06",
          "2020-05-07",
          "2020-05-08",
          "2020-05-09"
         ],
         "xaxis": "x",
         "y": [
          33,
          88,
          87,
          97,
          76,
          63,
          59,
          16,
          83,
          79,
          70,
          62,
          73,
          59
         ],
         "yaxis": "y"
        },
        {
         "alignmentgroup": "True",
         "hovertemplate": "County=HALL<br>Time (Month, Day, Year)=%{x}<br>New Hospitalizations, Deaths, and COVID-19 Cases=%{y}<extra></extra>",
         "legendgroup": "HALL",
         "marker": {
          "color": "#FFA15A",
          "pattern": {
           "shape": ""
          }
         },
         "name": "HALL",
         "offsetgroup": "HALL",
         "orientation": "v",
         "showlegend": true,
         "textposition": "auto",
         "type": "bar",
         "x": [
          "2020-05-06",
          "2020-05-07",
          "2020-05-08",
          "2020-05-09",
          "2020-04-26",
          "2020-04-27",
          "2020-04-28",
          "2020-04-29",
          "2020-04-30",
          "2020-05-01",
          "2020-05-02",
          "2020-05-03",
          "2020-05-04",
          "2020-05-05"
         ],
         "xaxis": "x",
         "y": [
          33,
          18,
          24,
          24,
          40,
          69,
          205,
          37,
          36,
          56,
          36,
          16,
          40,
          24
         ],
         "yaxis": "y"
        }
       ],
       "layout": {
        "barmode": "group",
        "legend": {
         "title": {
          "text": "County"
         },
         "tracegroupgap": 0
        },
        "template": {
         "data": {
          "bar": [
           {
            "error_x": {
             "color": "#2a3f5f"
            },
            "error_y": {
             "color": "#2a3f5f"
            },
            "marker": {
             "line": {
              "color": "#E5ECF6",
              "width": 0.5
             },
             "pattern": {
              "fillmode": "overlay",
              "size": 10,
              "solidity": 0.2
             }
            },
            "type": "bar"
           }
          ],
          "barpolar": [
           {
            "marker": {
             "line": {
              "color": "#E5ECF6",
              "width": 0.5
             },
             "pattern": {
              "fillmode": "overlay",
              "size": 10,
              "solidity": 0.2
             }
            },
            "type": "barpolar"
           }
          ],
          "carpet": [
           {
            "aaxis": {
             "endlinecolor": "#2a3f5f",
             "gridcolor": "white",
             "linecolor": "white",
             "minorgridcolor": "white",
             "startlinecolor": "#2a3f5f"
            },
            "baxis": {
             "endlinecolor": "#2a3f5f",
             "gridcolor": "white",
             "linecolor": "white",
             "minorgridcolor": "white",
             "startlinecolor": "#2a3f5f"
            },
            "type": "carpet"
           }
          ],
          "choropleth": [
           {
            "colorbar": {
             "outlinewidth": 0,
             "ticks": ""
            },
            "type": "choropleth"
           }
          ],
          "contour": [
           {
            "colorbar": {
             "outlinewidth": 0,
             "ticks": ""
            },
            "colorscale": [
             [
              0,
              "#0d0887"
             ],
             [
              0.1111111111111111,
              "#46039f"
             ],
             [
              0.2222222222222222,
              "#7201a8"
             ],
             [
              0.3333333333333333,
              "#9c179e"
             ],
             [
              0.4444444444444444,
              "#bd3786"
             ],
             [
              0.5555555555555556,
              "#d8576b"
             ],
             [
              0.6666666666666666,
              "#ed7953"
             ],
             [
              0.7777777777777778,
              "#fb9f3a"
             ],
             [
              0.8888888888888888,
              "#fdca26"
             ],
             [
              1,
              "#f0f921"
             ]
            ],
            "type": "contour"
           }
          ],
          "contourcarpet": [
           {
            "colorbar": {
             "outlinewidth": 0,
             "ticks": ""
            },
            "type": "contourcarpet"
           }
          ],
          "heatmap": [
           {
            "colorbar": {
             "outlinewidth": 0,
             "ticks": ""
            },
            "colorscale": [
             [
              0,
              "#0d0887"
             ],
             [
              0.1111111111111111,
              "#46039f"
             ],
             [
              0.2222222222222222,
              "#7201a8"
             ],
             [
              0.3333333333333333,
              "#9c179e"
             ],
             [
              0.4444444444444444,
              "#bd3786"
             ],
             [
              0.5555555555555556,
              "#d8576b"
             ],
             [
              0.6666666666666666,
              "#ed7953"
             ],
             [
              0.7777777777777778,
              "#fb9f3a"
             ],
             [
              0.8888888888888888,
              "#fdca26"
             ],
             [
              1,
              "#f0f921"
             ]
            ],
            "type": "heatmap"
           }
          ],
          "heatmapgl": [
           {
            "colorbar": {
             "outlinewidth": 0,
             "ticks": ""
            },
            "colorscale": [
             [
              0,
              "#0d0887"
             ],
             [
              0.1111111111111111,
              "#46039f"
             ],
             [
              0.2222222222222222,
              "#7201a8"
             ],
             [
              0.3333333333333333,
              "#9c179e"
             ],
             [
              0.4444444444444444,
              "#bd3786"
             ],
             [
              0.5555555555555556,
              "#d8576b"
             ],
             [
              0.6666666666666666,
              "#ed7953"
             ],
             [
              0.7777777777777778,
              "#fb9f3a"
             ],
             [
              0.8888888888888888,
              "#fdca26"
             ],
             [
              1,
              "#f0f921"
             ]
            ],
            "type": "heatmapgl"
           }
          ],
          "histogram": [
           {
            "marker": {
             "pattern": {
              "fillmode": "overlay",
              "size": 10,
              "solidity": 0.2
             }
            },
            "type": "histogram"
           }
          ],
          "histogram2d": [
           {
            "colorbar": {
             "outlinewidth": 0,
             "ticks": ""
            },
            "colorscale": [
             [
              0,
              "#0d0887"
             ],
             [
              0.1111111111111111,
              "#46039f"
             ],
             [
              0.2222222222222222,
              "#7201a8"
             ],
             [
              0.3333333333333333,
              "#9c179e"
             ],
             [
              0.4444444444444444,
              "#bd3786"
             ],
             [
              0.5555555555555556,
              "#d8576b"
             ],
             [
              0.6666666666666666,
              "#ed7953"
             ],
             [
              0.7777777777777778,
              "#fb9f3a"
             ],
             [
              0.8888888888888888,
              "#fdca26"
             ],
             [
              1,
              "#f0f921"
             ]
            ],
            "type": "histogram2d"
           }
          ],
          "histogram2dcontour": [
           {
            "colorbar": {
             "outlinewidth": 0,
             "ticks": ""
            },
            "colorscale": [
             [
              0,
              "#0d0887"
             ],
             [
              0.1111111111111111,
              "#46039f"
             ],
             [
              0.2222222222222222,
              "#7201a8"
             ],
             [
              0.3333333333333333,
              "#9c179e"
             ],
             [
              0.4444444444444444,
              "#bd3786"
             ],
             [
              0.5555555555555556,
              "#d8576b"
             ],
             [
              0.6666666666666666,
              "#ed7953"
             ],
             [
              0.7777777777777778,
              "#fb9f3a"
             ],
             [
              0.8888888888888888,
              "#fdca26"
             ],
             [
              1,
              "#f0f921"
             ]
            ],
            "type": "histogram2dcontour"
           }
          ],
          "mesh3d": [
           {
            "colorbar": {
             "outlinewidth": 0,
             "ticks": ""
            },
            "type": "mesh3d"
           }
          ],
          "parcoords": [
           {
            "line": {
             "colorbar": {
              "outlinewidth": 0,
              "ticks": ""
             }
            },
            "type": "parcoords"
           }
          ],
          "pie": [
           {
            "automargin": true,
            "type": "pie"
           }
          ],
          "scatter": [
           {
            "marker": {
             "colorbar": {
              "outlinewidth": 0,
              "ticks": ""
             }
            },
            "type": "scatter"
           }
          ],
          "scatter3d": [
           {
            "line": {
             "colorbar": {
              "outlinewidth": 0,
              "ticks": ""
             }
            },
            "marker": {
             "colorbar": {
              "outlinewidth": 0,
              "ticks": ""
             }
            },
            "type": "scatter3d"
           }
          ],
          "scattercarpet": [
           {
            "marker": {
             "colorbar": {
              "outlinewidth": 0,
              "ticks": ""
             }
            },
            "type": "scattercarpet"
           }
          ],
          "scattergeo": [
           {
            "marker": {
             "colorbar": {
              "outlinewidth": 0,
              "ticks": ""
             }
            },
            "type": "scattergeo"
           }
          ],
          "scattergl": [
           {
            "marker": {
             "colorbar": {
              "outlinewidth": 0,
              "ticks": ""
             }
            },
            "type": "scattergl"
           }
          ],
          "scattermapbox": [
           {
            "marker": {
             "colorbar": {
              "outlinewidth": 0,
              "ticks": ""
             }
            },
            "type": "scattermapbox"
           }
          ],
          "scatterpolar": [
           {
            "marker": {
             "colorbar": {
              "outlinewidth": 0,
              "ticks": ""
             }
            },
            "type": "scatterpolar"
           }
          ],
          "scatterpolargl": [
           {
            "marker": {
             "colorbar": {
              "outlinewidth": 0,
              "ticks": ""
             }
            },
            "type": "scatterpolargl"
           }
          ],
          "scatterternary": [
           {
            "marker": {
             "colorbar": {
              "outlinewidth": 0,
              "ticks": ""
             }
            },
            "type": "scatterternary"
           }
          ],
          "surface": [
           {
            "colorbar": {
             "outlinewidth": 0,
             "ticks": ""
            },
            "colorscale": [
             [
              0,
              "#0d0887"
             ],
             [
              0.1111111111111111,
              "#46039f"
             ],
             [
              0.2222222222222222,
              "#7201a8"
             ],
             [
              0.3333333333333333,
              "#9c179e"
             ],
             [
              0.4444444444444444,
              "#bd3786"
             ],
             [
              0.5555555555555556,
              "#d8576b"
             ],
             [
              0.6666666666666666,
              "#ed7953"
             ],
             [
              0.7777777777777778,
              "#fb9f3a"
             ],
             [
              0.8888888888888888,
              "#fdca26"
             ],
             [
              1,
              "#f0f921"
             ]
            ],
            "type": "surface"
           }
          ],
          "table": [
           {
            "cells": {
             "fill": {
              "color": "#EBF0F8"
             },
             "line": {
              "color": "white"
             }
            },
            "header": {
             "fill": {
              "color": "#C8D4E3"
             },
             "line": {
              "color": "white"
             }
            },
            "type": "table"
           }
          ]
         },
         "layout": {
          "annotationdefaults": {
           "arrowcolor": "#2a3f5f",
           "arrowhead": 0,
           "arrowwidth": 1
          },
          "autotypenumbers": "strict",
          "coloraxis": {
           "colorbar": {
            "outlinewidth": 0,
            "ticks": ""
           }
          },
          "colorscale": {
           "diverging": [
            [
             0,
             "#8e0152"
            ],
            [
             0.1,
             "#c51b7d"
            ],
            [
             0.2,
             "#de77ae"
            ],
            [
             0.3,
             "#f1b6da"
            ],
            [
             0.4,
             "#fde0ef"
            ],
            [
             0.5,
             "#f7f7f7"
            ],
            [
             0.6,
             "#e6f5d0"
            ],
            [
             0.7,
             "#b8e186"
            ],
            [
             0.8,
             "#7fbc41"
            ],
            [
             0.9,
             "#4d9221"
            ],
            [
             1,
             "#276419"
            ]
           ],
           "sequential": [
            [
             0,
             "#0d0887"
            ],
            [
             0.1111111111111111,
             "#46039f"
            ],
            [
             0.2222222222222222,
             "#7201a8"
            ],
            [
             0.3333333333333333,
             "#9c179e"
            ],
            [
             0.4444444444444444,
             "#bd3786"
            ],
            [
             0.5555555555555556,
             "#d8576b"
            ],
            [
             0.6666666666666666,
             "#ed7953"
            ],
            [
             0.7777777777777778,
             "#fb9f3a"
            ],
            [
             0.8888888888888888,
             "#fdca26"
            ],
            [
             1,
             "#f0f921"
            ]
           ],
           "sequentialminus": [
            [
             0,
             "#0d0887"
            ],
            [
             0.1111111111111111,
             "#46039f"
            ],
            [
             0.2222222222222222,
             "#7201a8"
            ],
            [
             0.3333333333333333,
             "#9c179e"
            ],
            [
             0.4444444444444444,
             "#bd3786"
            ],
            [
             0.5555555555555556,
             "#d8576b"
            ],
            [
             0.6666666666666666,
             "#ed7953"
            ],
            [
             0.7777777777777778,
             "#fb9f3a"
            ],
            [
             0.8888888888888888,
             "#fdca26"
            ],
            [
             1,
             "#f0f921"
            ]
           ]
          },
          "colorway": [
           "#636efa",
           "#EF553B",
           "#00cc96",
           "#ab63fa",
           "#FFA15A",
           "#19d3f3",
           "#FF6692",
           "#B6E880",
           "#FF97FF",
           "#FECB52"
          ],
          "font": {
           "color": "#2a3f5f"
          },
          "geo": {
           "bgcolor": "white",
           "lakecolor": "white",
           "landcolor": "#E5ECF6",
           "showlakes": true,
           "showland": true,
           "subunitcolor": "white"
          },
          "hoverlabel": {
           "align": "left"
          },
          "hovermode": "closest",
          "mapbox": {
           "style": "light"
          },
          "paper_bgcolor": "white",
          "plot_bgcolor": "#E5ECF6",
          "polar": {
           "angularaxis": {
            "gridcolor": "white",
            "linecolor": "white",
            "ticks": ""
           },
           "bgcolor": "#E5ECF6",
           "radialaxis": {
            "gridcolor": "white",
            "linecolor": "white",
            "ticks": ""
           }
          },
          "scene": {
           "xaxis": {
            "backgroundcolor": "#E5ECF6",
            "gridcolor": "white",
            "gridwidth": 2,
            "linecolor": "white",
            "showbackground": true,
            "ticks": "",
            "zerolinecolor": "white"
           },
           "yaxis": {
            "backgroundcolor": "#E5ECF6",
            "gridcolor": "white",
            "gridwidth": 2,
            "linecolor": "white",
            "showbackground": true,
            "ticks": "",
            "zerolinecolor": "white"
           },
           "zaxis": {
            "backgroundcolor": "#E5ECF6",
            "gridcolor": "white",
            "gridwidth": 2,
            "linecolor": "white",
            "showbackground": true,
            "ticks": "",
            "zerolinecolor": "white"
           }
          },
          "shapedefaults": {
           "line": {
            "color": "#2a3f5f"
           }
          },
          "ternary": {
           "aaxis": {
            "gridcolor": "white",
            "linecolor": "white",
            "ticks": ""
           },
           "baxis": {
            "gridcolor": "white",
            "linecolor": "white",
            "ticks": ""
           },
           "bgcolor": "#E5ECF6",
           "caxis": {
            "gridcolor": "white",
            "linecolor": "white",
            "ticks": ""
           }
          },
          "title": {
           "x": 0.05
          },
          "xaxis": {
           "automargin": true,
           "gridcolor": "white",
           "linecolor": "white",
           "ticks": "",
           "title": {
            "standoff": 15
           },
           "zerolinecolor": "white",
           "zerolinewidth": 2
          },
          "yaxis": {
           "automargin": true,
           "gridcolor": "white",
           "linecolor": "white",
           "ticks": "",
           "title": {
            "standoff": 15
           },
           "zerolinecolor": "white",
           "zerolinewidth": 2
          }
         }
        },
        "title": {
         "text": "Georgia 2020 Covid Data: New Hospitalizations, Deaths, and COVID-19 Cases"
        },
        "xaxis": {
         "anchor": "y",
         "domain": [
          0,
          1
         ],
         "tickmode": "linear",
         "title": {
          "text": "Time (Month, Day, Year)"
         },
         "type": "category"
        },
        "yaxis": {
         "anchor": "x",
         "domain": [
          0,
          1
         ],
         "title": {
          "text": "New Hospitalizations, Deaths, and COVID-19 Cases"
         }
        }
       }
      }
     },
     "metadata": {},
     "output_type": "display_data"
    }
   ],
   "source": [
    "plotly8 = px.bar(dailySpecific, \n",
    "                 x='DATESTAMP_MOD_DAY', \n",
    "                 y = 'newHospAndDeathsAndCovid', \n",
    "                 color='COUNTY',\n",
    "                 barmode= 'group',\n",
    "                 title='Georgia 2020 Covid Data: New Hospitalizations, Deaths, and COVID-19 Cases',\n",
    "                 labels={'DATESTAMP_MOD_DAY':'Time (Month, Day, Year)', \n",
    "                         'newHospAndDeathsAndCovid':'New Hospitalizations, Deaths, and COVID-19 Cases', \n",
    "                         'COUNTY':'County'},\n",
    "                 )\n",
    "plotly8.update_layout(\n",
    "    xaxis=dict(\n",
    "        tickmode = 'linear',\n",
    "        type = 'category',\n",
    "    )\n",
    ")\n",
    "plotly8.show()"
   ]
  }
 ],
 "metadata": {
  "kernelspec": {
   "display_name": "Python 3.9.12 ('base')",
   "language": "python",
   "name": "python3"
  },
  "language_info": {
   "codemirror_mode": {
    "name": "ipython",
    "version": 3
   },
   "file_extension": ".py",
   "mimetype": "text/x-python",
   "name": "python",
   "nbconvert_exporter": "python",
   "pygments_lexer": "ipython3",
   "version": "3.9.12"
  },
  "orig_nbformat": 4,
  "vscode": {
   "interpreter": {
    "hash": "2426c27b3d4358b4854808f4ee0ce0f5f1fa773e1ec013bafb32e978441c4793"
   }
  }
 },
 "nbformat": 4,
 "nbformat_minor": 2
}
